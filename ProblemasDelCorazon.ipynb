{
 "cells": [
  {
   "cell_type": "markdown",
   "id": "bba5d1fb",
   "metadata": {},
   "source": [
    "<center>\n",
    "    \n",
    "# Tema de estudio: Problemas del corazón.\n",
    "    \n",
    "</center>\n",
    "\n",
    "En este proyecto se da un estudio acerca de pacientes con problemas al corazón. \n",
    "<br>\n",
    "\n",
    "El data set seleccionado incluye la información de pacientes de 4 localidades:<br>\n",
    "* Long Beach, California, EE. UU. [Ver locación](https://goo.gl/maps/PGfSboDzf7dLuVe76)\n",
    "* Cleveland, Ohio, EE. UU. [Ver locación](https://goo.gl/maps/dqaWAmHdR7hY6ABy8)\n",
    "* Budapest, Hungria. [Ver locación](https://goo.gl/maps/kbYcSgBvWdmN4xVq8)\n",
    "* Zurich, Suiza. [Ver locación](https://goo.gl/maps/kSXJCobtvoEj5u7i9)\n",
    "\n",
    "    "
   ]
  },
  {
   "cell_type": "code",
   "execution_count": null,
   "id": "59f62dcc",
   "metadata": {},
   "outputs": [],
   "source": []
  }
 ],
 "metadata": {
  "kernelspec": {
   "display_name": "Python 3",
   "language": "python",
   "name": "python3"
  },
  "language_info": {
   "codemirror_mode": {
    "name": "ipython",
    "version": 3
   },
   "file_extension": ".py",
   "mimetype": "text/x-python",
   "name": "python",
   "nbconvert_exporter": "python",
   "pygments_lexer": "ipython3",
   "version": "3.9.2"
  }
 },
 "nbformat": 4,
 "nbformat_minor": 5
}
