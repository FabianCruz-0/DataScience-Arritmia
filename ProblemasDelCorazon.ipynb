{
 "cells": [
  {
   "cell_type": "markdown",
   "metadata": {},
   "source": [
    "<div align= \"center\">\n",
    "<h1>Tema de estudio: Problemas del corazón.</h1>\n",
    "</div>\n",
    "\n",
    "<br>\n",
    "\n",
    "<div style=\"text-align: justify\">\n",
    "    \n",
    "En este proyecto se realiza un estudio acerca de pacientes con problemas al corazón de un hosipital en Cleveland. Con esta información, se plantean técnicas de <code><i><strong>ciencia de datos</strong></i></code> para relacionar información, agrupar, realizar gráficas y obtener conclusiones. \n",
    "    \n",
    "</div>\n",
    "\n",
    "\n",
    "<br>\n",
    "\n",
    "El <code><i><strong>dataset</strong></i></code> seleccionado incluye la información de pacientes del hospital:<br>\n",
    "* Cleveland, Ohio, EE. UU. [Ver localización](https://goo.gl/maps/dqaWAmHdR7hY6ABy8).\n",
    "\n",
    "<br>\n",
    "\n",
    "Además, tiene la siguiente composición:\n",
    "\n",
    "\n",
    "\n",
    "<table align= left>\n",
    "    <tr>\n",
    "        <td>\n",
    "            <h3>Base de datos</h3>\n",
    "        </td>\n",
    "        <td>\n",
    "            <h3>Instancias (Pacientes)</h3>\n",
    "        </td>\n",
    "    </tr>\n",
    "    <tr>\n",
    "        <td style=\"text-align:left\">\n",
    "            <h4>Cleveland</h4>\n",
    "        </td>\n",
    "        <td style=\"text-align:center\">\n",
    "            <h4>303</h4>\n",
    "        </td>\n",
    "    </tr>\n",
    "</table>\n",
    "\n",
    "<br><br><br><br><br><br><br><br><br><br>\n",
    "    \n",
    "<hr>\n",
    "\n",
    "El dataset en cuestión tiene 14 atributos por cada paciente, son los siguientes:<br>\n",
    "\n",
    "<code><i>Las palabras que tengan el símbolo </i></code><code>Δ#</code><code><i> (delta y un número) pueden ser encontradas en el glosario para entender su significado.</i></code>\n",
    "\n",
    "1. **Edad**.\n",
    "2. **Sexo**.\n",
    "3. **Tipo de dolor en el pecho** .\n",
    "    - Valor 1: Angina de pecho típica. <code><strong>Δ1</strong></code>\n",
    "    - Valor 2: Angina de pecho atípica.\n",
    "    - Valor 3: Dolor no anginal.\n",
    "    - Valor 4: Asintomático.\n",
    "    \n",
    "    \n",
    "4. **Presión arterial en reposo (mm Hg)**.\n",
    "5. **Nivel de colesterol sérico (mg/dl)**.\n",
    "6. **Indicador si el paciente en ayunas tiene un nivel de glucosa mayor a 120 mg/dl (considerado prediabetes)**.\n",
    "    - Valor 0: Falso.\n",
    "    - Valor 1: Verdadero.\n",
    "    \n",
    "    \n",
    "7. **Resultados de un test electrocardiográfico en reposo**. <code><strong>Δ2</strong></code>\n",
    "    - Valor 0: Normal.\n",
    "    - Valor 1: Tiene una anomalía en la onda ST-T (inversiones de la onda T y/o elevación o depresión de ST > 0,05 mV).\n",
    "    - Valor 2: Muestra hipertrofia ventricular izquierda probable o definitiva según el criterio de Romhilt-Estes.\n",
    "    \n",
    "    \n",
    "8. **Máximo ritmo cardiáco alcanzado**.\n",
    "9. **Angina inducida por ejercicio**.\n",
    "    - Valor 0: No.\n",
    "    - Valor 1: Sí.\n",
    "    \n",
    "    \n",
    "10. **Depresión del ST inducida por el ejercicio en relación con el reposo**.\n",
    "11. **Tipo de pendiente del pico del segmento ST**.\n",
    "    - Valor 1: Subiendo.\n",
    "    - Valor 2: Plano.\n",
    "    - Valor 3: Bajando.\n",
    "    \n",
    "    \n",
    "12. **Número de vasos principales (0-3) indicados por la floración**.\n",
    "13. **Talasemia.** <code><strong>Δ3</strong></code>\n",
    "    - Valor 3: Normal.\n",
    "    - Valor 6: Defecto fijo.\n",
    "    - Valor 7: Defecto reversible.\n",
    "    \n",
    "    \n",
    "14. **Diagnóstico de enfermedad cardíaca (angiografía)**. <code><strong>Δ4</strong></code>\n",
    "    - Valor 0: < 50% Estrechamiento de vasos sanguíneos principales.\n",
    "    - Valor 1: > 50% Estrechamiento de vasos sanguíneos principales.\n",
    "\n",
    "\n",
    "<hr>\n",
    "\n",
    "### GLOSARIO\n",
    "\n",
    "Δ1. **Dolor de pecho anginal:** tipo de dolor de pecho causado por la reducción del flujo de sangre al corazón. La angina de pecho es un síntoma de enfermedad de las arterias coronarias.\n",
    "\n",
    "\n",
    "Δ2. **Test electrocardiográfico:** Un electrocardiograma (ECG o EKG) registra la señal eléctrica del corazón para buscar diferentes afecciones cardíacas.\n",
    "\n",
    "\n",
    "Δ3. **Talasemia:** Enfermedad sanguínea caracterizada por cantidades inferiores a las normales de una proteína transportadora de oxígeno.\n",
    "\n",
    "\n",
    "Δ4. **Angiografía:** estudio anatómico de los vasos sanguíneos y su recorrido en cualquier zona del cuerpo.\n",
    "\n",
    "<hr>\n"
   ]
  },
  {
   "cell_type": "markdown",
   "metadata": {},
   "source": [
    "<h1>\n",
    "Desarrollo\n",
    "<h1/>\n",
    "    <p style=\"font-size:15px\">En esta parte es donde se llevara acabo toda la codificacion para el analizis y agrupacion de los datos con la intencion de encontrar una relacion entre los distintos sintomas de los pacientes.</p>\n",
    "    <h2>codigo<h2/>\n",
    "  \n",
    "   \n",
    "        "
   ]
  },
  {
   "cell_type": "markdown",
   "metadata": {},
   "source": [
    "Importamos las librerias necesarias y el metodo de Kmeans con sklearn junto con el .csv de nuestro dataset.\n",
    "\n",
    "Al leer el .csv nos aparece una tabla con todos nuestros datos a analizar."
   ]
  },
  {
   "cell_type": "code",
   "execution_count": 19,
   "metadata": {},
   "outputs": [
    {
     "data": {
      "text/html": [
       "<div>\n",
       "<style scoped>\n",
       "    .dataframe tbody tr th:only-of-type {\n",
       "        vertical-align: middle;\n",
       "    }\n",
       "\n",
       "    .dataframe tbody tr th {\n",
       "        vertical-align: top;\n",
       "    }\n",
       "\n",
       "    .dataframe thead th {\n",
       "        text-align: right;\n",
       "    }\n",
       "</style>\n",
       "<table border=\"1\" class=\"dataframe\">\n",
       "  <thead>\n",
       "    <tr style=\"text-align: right;\">\n",
       "      <th></th>\n",
       "      <th>Edad</th>\n",
       "      <th>sexo</th>\n",
       "      <th>cp</th>\n",
       "      <th>trestbps</th>\n",
       "      <th>chol</th>\n",
       "      <th>fbs</th>\n",
       "      <th>restecg</th>\n",
       "      <th>thalach</th>\n",
       "      <th>exang</th>\n",
       "      <th>oldpeak</th>\n",
       "      <th>slope</th>\n",
       "      <th>ca</th>\n",
       "      <th>thal</th>\n",
       "      <th>num</th>\n",
       "    </tr>\n",
       "  </thead>\n",
       "  <tbody>\n",
       "    <tr>\n",
       "      <th>0</th>\n",
       "      <td>63</td>\n",
       "      <td>1</td>\n",
       "      <td>1</td>\n",
       "      <td>145</td>\n",
       "      <td>233</td>\n",
       "      <td>1</td>\n",
       "      <td>2</td>\n",
       "      <td>150</td>\n",
       "      <td>0</td>\n",
       "      <td>2.3</td>\n",
       "      <td>3</td>\n",
       "      <td>0</td>\n",
       "      <td>6</td>\n",
       "      <td>0</td>\n",
       "    </tr>\n",
       "    <tr>\n",
       "      <th>1</th>\n",
       "      <td>67</td>\n",
       "      <td>1</td>\n",
       "      <td>4</td>\n",
       "      <td>160</td>\n",
       "      <td>286</td>\n",
       "      <td>0</td>\n",
       "      <td>2</td>\n",
       "      <td>108</td>\n",
       "      <td>1</td>\n",
       "      <td>1.5</td>\n",
       "      <td>2</td>\n",
       "      <td>3</td>\n",
       "      <td>3</td>\n",
       "      <td>2</td>\n",
       "    </tr>\n",
       "    <tr>\n",
       "      <th>2</th>\n",
       "      <td>67</td>\n",
       "      <td>1</td>\n",
       "      <td>4</td>\n",
       "      <td>120</td>\n",
       "      <td>229</td>\n",
       "      <td>0</td>\n",
       "      <td>2</td>\n",
       "      <td>129</td>\n",
       "      <td>1</td>\n",
       "      <td>2.6</td>\n",
       "      <td>2</td>\n",
       "      <td>2</td>\n",
       "      <td>7</td>\n",
       "      <td>1</td>\n",
       "    </tr>\n",
       "    <tr>\n",
       "      <th>3</th>\n",
       "      <td>37</td>\n",
       "      <td>1</td>\n",
       "      <td>3</td>\n",
       "      <td>130</td>\n",
       "      <td>250</td>\n",
       "      <td>0</td>\n",
       "      <td>0</td>\n",
       "      <td>187</td>\n",
       "      <td>0</td>\n",
       "      <td>3.5</td>\n",
       "      <td>3</td>\n",
       "      <td>0</td>\n",
       "      <td>3</td>\n",
       "      <td>0</td>\n",
       "    </tr>\n",
       "    <tr>\n",
       "      <th>4</th>\n",
       "      <td>41</td>\n",
       "      <td>0</td>\n",
       "      <td>2</td>\n",
       "      <td>130</td>\n",
       "      <td>204</td>\n",
       "      <td>0</td>\n",
       "      <td>2</td>\n",
       "      <td>172</td>\n",
       "      <td>0</td>\n",
       "      <td>1.4</td>\n",
       "      <td>1</td>\n",
       "      <td>0</td>\n",
       "      <td>3</td>\n",
       "      <td>0</td>\n",
       "    </tr>\n",
       "    <tr>\n",
       "      <th>...</th>\n",
       "      <td>...</td>\n",
       "      <td>...</td>\n",
       "      <td>...</td>\n",
       "      <td>...</td>\n",
       "      <td>...</td>\n",
       "      <td>...</td>\n",
       "      <td>...</td>\n",
       "      <td>...</td>\n",
       "      <td>...</td>\n",
       "      <td>...</td>\n",
       "      <td>...</td>\n",
       "      <td>...</td>\n",
       "      <td>...</td>\n",
       "      <td>...</td>\n",
       "    </tr>\n",
       "    <tr>\n",
       "      <th>298</th>\n",
       "      <td>45</td>\n",
       "      <td>1</td>\n",
       "      <td>1</td>\n",
       "      <td>110</td>\n",
       "      <td>264</td>\n",
       "      <td>0</td>\n",
       "      <td>0</td>\n",
       "      <td>132</td>\n",
       "      <td>0</td>\n",
       "      <td>1.2</td>\n",
       "      <td>2</td>\n",
       "      <td>0</td>\n",
       "      <td>7</td>\n",
       "      <td>1</td>\n",
       "    </tr>\n",
       "    <tr>\n",
       "      <th>299</th>\n",
       "      <td>68</td>\n",
       "      <td>1</td>\n",
       "      <td>4</td>\n",
       "      <td>144</td>\n",
       "      <td>193</td>\n",
       "      <td>1</td>\n",
       "      <td>0</td>\n",
       "      <td>141</td>\n",
       "      <td>0</td>\n",
       "      <td>3.4</td>\n",
       "      <td>2</td>\n",
       "      <td>2</td>\n",
       "      <td>7</td>\n",
       "      <td>2</td>\n",
       "    </tr>\n",
       "    <tr>\n",
       "      <th>300</th>\n",
       "      <td>57</td>\n",
       "      <td>1</td>\n",
       "      <td>4</td>\n",
       "      <td>130</td>\n",
       "      <td>131</td>\n",
       "      <td>0</td>\n",
       "      <td>0</td>\n",
       "      <td>115</td>\n",
       "      <td>1</td>\n",
       "      <td>1.2</td>\n",
       "      <td>2</td>\n",
       "      <td>1</td>\n",
       "      <td>7</td>\n",
       "      <td>3</td>\n",
       "    </tr>\n",
       "    <tr>\n",
       "      <th>301</th>\n",
       "      <td>57</td>\n",
       "      <td>0</td>\n",
       "      <td>2</td>\n",
       "      <td>130</td>\n",
       "      <td>236</td>\n",
       "      <td>0</td>\n",
       "      <td>2</td>\n",
       "      <td>174</td>\n",
       "      <td>0</td>\n",
       "      <td>0.0</td>\n",
       "      <td>2</td>\n",
       "      <td>1</td>\n",
       "      <td>3</td>\n",
       "      <td>1</td>\n",
       "    </tr>\n",
       "    <tr>\n",
       "      <th>302</th>\n",
       "      <td>38</td>\n",
       "      <td>1</td>\n",
       "      <td>3</td>\n",
       "      <td>138</td>\n",
       "      <td>175</td>\n",
       "      <td>0</td>\n",
       "      <td>0</td>\n",
       "      <td>173</td>\n",
       "      <td>0</td>\n",
       "      <td>0.0</td>\n",
       "      <td>1</td>\n",
       "      <td>0</td>\n",
       "      <td>3</td>\n",
       "      <td>0</td>\n",
       "    </tr>\n",
       "  </tbody>\n",
       "</table>\n",
       "<p>303 rows × 14 columns</p>\n",
       "</div>"
      ],
      "text/plain": [
       "     Edad  sexo   cp  trestbps  chol  fbs  restecg  thalach  exang  oldpeak  \\\n",
       "0      63      1   1       145   233    1        2      150      0      2.3   \n",
       "1      67      1   4       160   286    0        2      108      1      1.5   \n",
       "2      67      1   4       120   229    0        2      129      1      2.6   \n",
       "3      37      1   3       130   250    0        0      187      0      3.5   \n",
       "4      41      0   2       130   204    0        2      172      0      1.4   \n",
       "..    ...    ...  ..       ...   ...  ...      ...      ...    ...      ...   \n",
       "298    45      1   1       110   264    0        0      132      0      1.2   \n",
       "299    68      1   4       144   193    1        0      141      0      3.4   \n",
       "300    57      1   4       130   131    0        0      115      1      1.2   \n",
       "301    57      0   2       130   236    0        2      174      0      0.0   \n",
       "302    38      1   3       138   175    0        0      173      0      0.0   \n",
       "\n",
       "     slope  ca   thal  num  \n",
       "0        3    0     6    0  \n",
       "1        2    3     3    2  \n",
       "2        2    2     7    1  \n",
       "3        3    0     3    0  \n",
       "4        1    0     3    0  \n",
       "..     ...  ...   ...  ...  \n",
       "298      2    0     7    1  \n",
       "299      2    2     7    2  \n",
       "300      2    1     7    3  \n",
       "301      2    1     3    1  \n",
       "302      1    0     3    0  \n",
       "\n",
       "[303 rows x 14 columns]"
      ]
     },
     "execution_count": 19,
     "metadata": {},
     "output_type": "execute_result"
    }
   ],
   "source": [
    "import numpy as np\n",
    "import pandas as pd\n",
    "from sklearn.cluster import KMeans\n",
    "from mpl_toolkits.mplot3d import Axes3D\n",
    "import matplotlib.pyplot as plt\n",
    "\n",
    "df = pd.read_csv(\"Dataset.csv\")\n",
    "df"
   ]
  },
  {
   "cell_type": "markdown",
   "metadata": {},
   "source": [
    "A continuacion se representaran algunos de los datos principales de la tabla mediante graficas."
   ]
  },
  {
   "cell_type": "code",
   "execution_count": 20,
   "metadata": {},
   "outputs": [
    {
     "data": {
      "text/plain": [
       "<AxesSubplot:title={'center':'Edad'}>"
      ]
     },
     "execution_count": 20,
     "metadata": {},
     "output_type": "execute_result"
    },
    {
     "data": {
      "image/png": "[encoded data removed]",
      "text/plain": [
       "<Figure size 432x288 with 1 Axes>"
      ]
     },
     "metadata": {
      "needs_background": "light"
     },
     "output_type": "display_data"
    }
   ],
   "source": [
    "df['Edad'].value_counts().plot(kind='bar', title='Edad')\n",
    "\n"
   ]
  },
  {
   "cell_type": "markdown",
   "metadata": {},
   "source": [
    "1 = Hombre\n",
    "0 = Mujer"
   ]
  },
  {
   "cell_type": "code",
   "execution_count": 21,
   "metadata": {},
   "outputs": [
    {
     "data": {
      "text/plain": [
       "<AxesSubplot:title={'center':'Sexo'}>"
      ]
     },
     "execution_count": 21,
     "metadata": {},
     "output_type": "execute_result"
    },
    {
     "data": {
      "image/png": "[encoded data removed]",
      "text/plain": [
       "<Figure size 432x288 with 1 Axes>"
      ]
     },
     "metadata": {
      "needs_background": "light"
     },
     "output_type": "display_data"
    }
   ],
   "source": [
    "df['sexo '].value_counts().plot(kind='bar', title='Sexo')"
   ]
  },
  {
   "cell_type": "code",
   "execution_count": 22,
   "metadata": {},
   "outputs": [
    {
     "data": {
      "text/plain": [
       "<AxesSubplot:title={'center':'Tipo de dolor en el pecho'}>"
      ]
     },
     "execution_count": 22,
     "metadata": {},
     "output_type": "execute_result"
    },
    {
     "data": {
      "image/png": "[encoded data removed]",
      "text/plain": [
       "<Figure size 432x288 with 1 Axes>"
      ]
     },
     "metadata": {
      "needs_background": "light"
     },
     "output_type": "display_data"
    }
   ],
   "source": [
    "df['cp'].value_counts().plot(kind='bar', title='Tipo de dolor en el pecho')"
   ]
  },
  {
   "cell_type": "code",
   "execution_count": 25,
   "metadata": {},
   "outputs": [
    {
     "data": {
      "text/plain": [
       "<AxesSubplot:title={'center':'nivel de glucosa mayor a 120 mg/dl en ayunas'}>"
      ]
     },
     "execution_count": 25,
     "metadata": {},
     "output_type": "execute_result"
    },
    {
     "data": {
      "image/png": "[encoded data removed]",
      "text/plain": [
       "<Figure size 432x288 with 1 Axes>"
      ]
     },
     "metadata": {
      "needs_background": "light"
     },
     "output_type": "display_data"
    }
   ],
   "source": [
    "df['fbs'].value_counts().plot(kind='bar', title='nivel de glucosa mayor a 120 mg/dl en ayunas')"
   ]
  },
  {
   "cell_type": "code",
   "execution_count": 26,
   "metadata": {},
   "outputs": [
    {
     "data": {
      "text/plain": [
       "<AxesSubplot:title={'center':'test electrocardiográfico en reposo.'}>"
      ]
     },
     "execution_count": 26,
     "metadata": {},
     "output_type": "execute_result"
    },
    {
     "data": {
      "image/png": "[encoded data removed]",
      "text/plain": [
       "<Figure size 432x288 with 1 Axes>"
      ]
     },
     "metadata": {
      "needs_background": "light"
     },
     "output_type": "display_data"
    }
   ],
   "source": [
    "df['restecg'].value_counts().plot(kind='bar', title='test electrocardiográfico en reposo.')"
   ]
  },
  {
   "cell_type": "code",
   "execution_count": 27,
   "metadata": {},
   "outputs": [
    {
     "data": {
      "text/plain": [
       "<AxesSubplot:title={'center':'Angina inducida por ejercicio.'}>"
      ]
     },
     "execution_count": 27,
     "metadata": {},
     "output_type": "execute_result"
    },
    {
     "data": {
      "image/png": "[encoded data removed]",
      "text/plain": [
       "<Figure size 432x288 with 1 Axes>"
      ]
     },
     "metadata": {
      "needs_background": "light"
     },
     "output_type": "display_data"
    }
   ],
   "source": [
    "df['exang'].value_counts().plot(kind='bar', title='Angina inducida por ejercicio.')"
   ]
  },
  {
   "cell_type": "code",
   "execution_count": 28,
   "metadata": {},
   "outputs": [
    {
     "data": {
      "text/plain": [
       "<AxesSubplot:title={'center':'Tipo de pendiente del pico del segmento ST'}>"
      ]
     },
     "execution_count": 28,
     "metadata": {},
     "output_type": "execute_result"
    },
    {
     "data": {
      "image/png": "[encoded data removed]",
      "text/plain": [
       "<Figure size 432x288 with 1 Axes>"
      ]
     },
     "metadata": {
      "needs_background": "light"
     },
     "output_type": "display_data"
    }
   ],
   "source": [
    "df['slope'].value_counts().plot(kind='bar', title='Tipo de pendiente del pico del segmento ST')"
   ]
  },
  {
   "cell_type": "code",
   "execution_count": 29,
   "metadata": {},
   "outputs": [
    {
     "data": {
      "text/plain": [
       "<AxesSubplot:title={'center':'Talasemia'}>"
      ]
     },
     "execution_count": 29,
     "metadata": {},
     "output_type": "execute_result"
    },
    {
     "data": {
      "image/png": "[encoded data removed]",
      "text/plain": [
       "<Figure size 432x288 with 1 Axes>"
      ]
     },
     "metadata": {
      "needs_background": "light"
     },
     "output_type": "display_data"
    }
   ],
   "source": [
    "df['slope'].value_counts().plot(kind='bar', title='Talasemia')"
   ]
  },
  {
   "cell_type": "code",
   "execution_count": 30,
   "metadata": {},
   "outputs": [
    {
     "data": {
      "text/plain": [
       "<AxesSubplot:title={'center':'angiografía'}>"
      ]
     },
     "execution_count": 30,
     "metadata": {},
     "output_type": "execute_result"
    },
    {
     "data": {
      "image/png": "[encoded data removed]",
      "text/plain": [
       "<Figure size 432x288 with 1 Axes>"
      ]
     },
     "metadata": {
      "needs_background": "light"
     },
     "output_type": "display_data"
    }
   ],
   "source": [
    "df['num'].value_counts().plot(kind='bar', title='angiografía')"
   ]
  },
  {
   "cell_type": "markdown",
   "metadata": {},
   "source": [
    "Una vez leido los datos de la tabla procedemos a crear el codigo para agrupar los datos creando tres centroides asignandoles\n",
    "valores aleatorios.\n",
    "\n",
    "Cuando se hayan agrupado se mostrara en un array a que grupo pertenece cada conjunto de datos."
   ]
  },
  {
   "cell_type": "code",
   "execution_count": 30,
   "metadata": {},
   "outputs": [
    {
     "data": {
      "text/plain": [
       "array([0, 0, 0, 0, 1, 0, 0, 2, 0, 1, 1, 2, 0, 0, 1, 1, 0, 0, 0, 0, 1, 0,\n",
       "       0, 1, 1, 1, 2, 0, 0, 1, 0, 0, 2, 0, 0, 1, 1, 0, 2, 0, 0, 1, 2, 1,\n",
       "       2, 0, 1, 0, 2, 1, 1, 1, 2, 1, 0, 0, 0, 1, 0, 1, 2, 1, 1, 2, 1, 0,\n",
       "       1, 0, 2, 0, 0, 0, 0, 0, 1, 2, 0, 2, 0, 0, 1, 0, 2, 0, 2, 0, 0, 1,\n",
       "       0, 0, 2, 1, 0, 1, 0, 0, 0, 0, 1, 1, 0, 1, 2, 0, 1, 2, 1, 0, 0, 1,\n",
       "       2, 0, 1, 2, 0, 1, 1, 1, 2, 0, 0, 2, 1, 1, 0, 0, 2, 0, 1, 1, 0, 1,\n",
       "       1, 0, 1, 0, 1, 0, 1, 0, 1, 2, 1, 2, 0, 0, 2, 0, 2, 2, 2, 0, 2, 2,\n",
       "       0, 2, 2, 2, 2, 0, 1, 2, 1, 0, 0, 1, 1, 2, 0, 1, 0, 0, 0, 2, 1, 0,\n",
       "       0, 1, 2, 0, 0, 2, 0, 0, 2, 1, 0, 0, 2, 0, 1, 2, 0, 2, 1, 2, 0, 0,\n",
       "       0, 0, 0, 2, 1, 2, 1, 2, 0, 1, 0, 0, 1, 0, 1, 0, 0, 1, 1, 0, 2, 0,\n",
       "       0, 0, 1, 0, 0, 1, 1, 0, 1, 1, 1, 2, 1, 0, 1, 0, 0, 0, 0, 2, 0, 2,\n",
       "       0, 0, 1, 0, 0, 0, 1, 1, 1, 1, 0, 2, 2, 1, 1, 1, 0, 0, 0, 2, 0, 1,\n",
       "       1, 2, 1, 1, 1, 1, 1, 0, 2, 1, 1, 0, 0, 1, 0, 1, 2, 0, 1, 1, 1, 2,\n",
       "       0, 1, 1, 0, 1, 2, 1, 1, 1, 1, 1, 0, 0, 1, 1, 0, 1])"
      ]
     },
     "execution_count": 30,
     "metadata": {},
     "output_type": "execute_result"
    }
   ],
   "source": [
    "centroides=np.array([[54,1,2,115,249,0,2,135,0,1.6,3,0,6,1],[43,0,4,136,198,1,2,155,1,2.4,1,2,3,1],[60,0,3,130,266,0,0,178,0,1,2,0,6,3]], np.int32)\n",
    "kmeans = KMeans(n_clusters=3, init=centroides,n_init=1)\n",
    "##clustering = KMeans(n_clusters=3,  random_state = 14, init=3)\n",
    "clusters=kmeans.fit_predict(df)\n",
    "kmeans.labels_"
   ]
  },
  {
   "cell_type": "markdown",
   "metadata": {},
   "source": [
    "Se utiliza el siguiente codigo para mostrar la tabla de datos con el respectivo grupo al que pertenece."
   ]
  },
  {
   "cell_type": "code",
   "execution_count": 31,
   "metadata": {},
   "outputs": [
    {
     "data": {
      "text/html": [
       "<div>\n",
       "<style scoped>\n",
       "    .dataframe tbody tr th:only-of-type {\n",
       "        vertical-align: middle;\n",
       "    }\n",
       "\n",
       "    .dataframe tbody tr th {\n",
       "        vertical-align: top;\n",
       "    }\n",
       "\n",
       "    .dataframe thead th {\n",
       "        text-align: right;\n",
       "    }\n",
       "</style>\n",
       "<table border=\"1\" class=\"dataframe\">\n",
       "  <thead>\n",
       "    <tr style=\"text-align: right;\">\n",
       "      <th></th>\n",
       "      <th>Edad</th>\n",
       "      <th>sexo</th>\n",
       "      <th>cp</th>\n",
       "      <th>trestbps</th>\n",
       "      <th>chol</th>\n",
       "      <th>fbs</th>\n",
       "      <th>restecg</th>\n",
       "      <th>thalach</th>\n",
       "      <th>exang</th>\n",
       "      <th>oldpeak</th>\n",
       "      <th>slope</th>\n",
       "      <th>ca</th>\n",
       "      <th>thal</th>\n",
       "      <th>num</th>\n",
       "      <th>Grupo</th>\n",
       "    </tr>\n",
       "  </thead>\n",
       "  <tbody>\n",
       "    <tr>\n",
       "      <th>0</th>\n",
       "      <td>63</td>\n",
       "      <td>1</td>\n",
       "      <td>1</td>\n",
       "      <td>145</td>\n",
       "      <td>233</td>\n",
       "      <td>1</td>\n",
       "      <td>2</td>\n",
       "      <td>150</td>\n",
       "      <td>0</td>\n",
       "      <td>2.3</td>\n",
       "      <td>3</td>\n",
       "      <td>0</td>\n",
       "      <td>6</td>\n",
       "      <td>0</td>\n",
       "      <td>0</td>\n",
       "    </tr>\n",
       "    <tr>\n",
       "      <th>1</th>\n",
       "      <td>67</td>\n",
       "      <td>1</td>\n",
       "      <td>4</td>\n",
       "      <td>160</td>\n",
       "      <td>286</td>\n",
       "      <td>0</td>\n",
       "      <td>2</td>\n",
       "      <td>108</td>\n",
       "      <td>1</td>\n",
       "      <td>1.5</td>\n",
       "      <td>2</td>\n",
       "      <td>3</td>\n",
       "      <td>3</td>\n",
       "      <td>2</td>\n",
       "      <td>0</td>\n",
       "    </tr>\n",
       "    <tr>\n",
       "      <th>2</th>\n",
       "      <td>67</td>\n",
       "      <td>1</td>\n",
       "      <td>4</td>\n",
       "      <td>120</td>\n",
       "      <td>229</td>\n",
       "      <td>0</td>\n",
       "      <td>2</td>\n",
       "      <td>129</td>\n",
       "      <td>1</td>\n",
       "      <td>2.6</td>\n",
       "      <td>2</td>\n",
       "      <td>2</td>\n",
       "      <td>7</td>\n",
       "      <td>1</td>\n",
       "      <td>0</td>\n",
       "    </tr>\n",
       "    <tr>\n",
       "      <th>3</th>\n",
       "      <td>37</td>\n",
       "      <td>1</td>\n",
       "      <td>3</td>\n",
       "      <td>130</td>\n",
       "      <td>250</td>\n",
       "      <td>0</td>\n",
       "      <td>0</td>\n",
       "      <td>187</td>\n",
       "      <td>0</td>\n",
       "      <td>3.5</td>\n",
       "      <td>3</td>\n",
       "      <td>0</td>\n",
       "      <td>3</td>\n",
       "      <td>0</td>\n",
       "      <td>0</td>\n",
       "    </tr>\n",
       "    <tr>\n",
       "      <th>4</th>\n",
       "      <td>41</td>\n",
       "      <td>0</td>\n",
       "      <td>2</td>\n",
       "      <td>130</td>\n",
       "      <td>204</td>\n",
       "      <td>0</td>\n",
       "      <td>2</td>\n",
       "      <td>172</td>\n",
       "      <td>0</td>\n",
       "      <td>1.4</td>\n",
       "      <td>1</td>\n",
       "      <td>0</td>\n",
       "      <td>3</td>\n",
       "      <td>0</td>\n",
       "      <td>1</td>\n",
       "    </tr>\n",
       "    <tr>\n",
       "      <th>...</th>\n",
       "      <td>...</td>\n",
       "      <td>...</td>\n",
       "      <td>...</td>\n",
       "      <td>...</td>\n",
       "      <td>...</td>\n",
       "      <td>...</td>\n",
       "      <td>...</td>\n",
       "      <td>...</td>\n",
       "      <td>...</td>\n",
       "      <td>...</td>\n",
       "      <td>...</td>\n",
       "      <td>...</td>\n",
       "      <td>...</td>\n",
       "      <td>...</td>\n",
       "      <td>...</td>\n",
       "    </tr>\n",
       "    <tr>\n",
       "      <th>298</th>\n",
       "      <td>45</td>\n",
       "      <td>1</td>\n",
       "      <td>1</td>\n",
       "      <td>110</td>\n",
       "      <td>264</td>\n",
       "      <td>0</td>\n",
       "      <td>0</td>\n",
       "      <td>132</td>\n",
       "      <td>0</td>\n",
       "      <td>1.2</td>\n",
       "      <td>2</td>\n",
       "      <td>0</td>\n",
       "      <td>7</td>\n",
       "      <td>1</td>\n",
       "      <td>0</td>\n",
       "    </tr>\n",
       "    <tr>\n",
       "      <th>299</th>\n",
       "      <td>68</td>\n",
       "      <td>1</td>\n",
       "      <td>4</td>\n",
       "      <td>144</td>\n",
       "      <td>193</td>\n",
       "      <td>1</td>\n",
       "      <td>0</td>\n",
       "      <td>141</td>\n",
       "      <td>0</td>\n",
       "      <td>3.4</td>\n",
       "      <td>2</td>\n",
       "      <td>2</td>\n",
       "      <td>7</td>\n",
       "      <td>2</td>\n",
       "      <td>1</td>\n",
       "    </tr>\n",
       "    <tr>\n",
       "      <th>300</th>\n",
       "      <td>57</td>\n",
       "      <td>1</td>\n",
       "      <td>4</td>\n",
       "      <td>130</td>\n",
       "      <td>131</td>\n",
       "      <td>0</td>\n",
       "      <td>0</td>\n",
       "      <td>115</td>\n",
       "      <td>1</td>\n",
       "      <td>1.2</td>\n",
       "      <td>2</td>\n",
       "      <td>1</td>\n",
       "      <td>7</td>\n",
       "      <td>3</td>\n",
       "      <td>1</td>\n",
       "    </tr>\n",
       "    <tr>\n",
       "      <th>301</th>\n",
       "      <td>57</td>\n",
       "      <td>0</td>\n",
       "      <td>2</td>\n",
       "      <td>130</td>\n",
       "      <td>236</td>\n",
       "      <td>0</td>\n",
       "      <td>2</td>\n",
       "      <td>174</td>\n",
       "      <td>0</td>\n",
       "      <td>0.0</td>\n",
       "      <td>2</td>\n",
       "      <td>1</td>\n",
       "      <td>3</td>\n",
       "      <td>1</td>\n",
       "      <td>0</td>\n",
       "    </tr>\n",
       "    <tr>\n",
       "      <th>302</th>\n",
       "      <td>38</td>\n",
       "      <td>1</td>\n",
       "      <td>3</td>\n",
       "      <td>138</td>\n",
       "      <td>175</td>\n",
       "      <td>0</td>\n",
       "      <td>0</td>\n",
       "      <td>173</td>\n",
       "      <td>0</td>\n",
       "      <td>0.0</td>\n",
       "      <td>1</td>\n",
       "      <td>0</td>\n",
       "      <td>3</td>\n",
       "      <td>0</td>\n",
       "      <td>1</td>\n",
       "    </tr>\n",
       "  </tbody>\n",
       "</table>\n",
       "<p>303 rows × 15 columns</p>\n",
       "</div>"
      ],
      "text/plain": [
       "     Edad  sexo   cp  trestbps  chol  fbs  restecg  thalach  exang  oldpeak  \\\n",
       "0      63      1   1       145   233    1        2      150      0      2.3   \n",
       "1      67      1   4       160   286    0        2      108      1      1.5   \n",
       "2      67      1   4       120   229    0        2      129      1      2.6   \n",
       "3      37      1   3       130   250    0        0      187      0      3.5   \n",
       "4      41      0   2       130   204    0        2      172      0      1.4   \n",
       "..    ...    ...  ..       ...   ...  ...      ...      ...    ...      ...   \n",
       "298    45      1   1       110   264    0        0      132      0      1.2   \n",
       "299    68      1   4       144   193    1        0      141      0      3.4   \n",
       "300    57      1   4       130   131    0        0      115      1      1.2   \n",
       "301    57      0   2       130   236    0        2      174      0      0.0   \n",
       "302    38      1   3       138   175    0        0      173      0      0.0   \n",
       "\n",
       "     slope  ca   thal  num  Grupo  \n",
       "0        3    0     6    0      0  \n",
       "1        2    3     3    2      0  \n",
       "2        2    2     7    1      0  \n",
       "3        3    0     3    0      0  \n",
       "4        1    0     3    0      1  \n",
       "..     ...  ...   ...  ...    ...  \n",
       "298      2    0     7    1      0  \n",
       "299      2    2     7    2      1  \n",
       "300      2    1     7    3      1  \n",
       "301      2    1     3    1      0  \n",
       "302      1    0     3    0      1  \n",
       "\n",
       "[303 rows x 15 columns]"
      ]
     },
     "execution_count": 31,
     "metadata": {},
     "output_type": "execute_result"
    }
   ],
   "source": [
    "df[\"Grupo\"] = clusters\n",
    "df"
   ]
  },
  {
   "cell_type": "markdown",
   "metadata": {},
   "source": [
    "<b>Grafica representativa de los grupos a los que pertenece cada paciente.</b>"
   ]
  },
  {
   "cell_type": "code",
   "execution_count": 32,
   "metadata": {},
   "outputs": [
    {
     "data": {
      "text/plain": [
       "<AxesSubplot:title={'center':'Pacientes'}, ylabel='Grupo'>"
      ]
     },
     "execution_count": 32,
     "metadata": {},
     "output_type": "execute_result"
    },
    {
     "data": {
      "image/png": "[encoded data removed]",
      "text/plain": [
       "<Figure size 432x288 with 1 Axes>"
      ]
     },
     "metadata": {},
     "output_type": "display_data"
    }
   ],
   "source": [
    "df['Grupo'].value_counts().plot(kind='pie', autopct='%.2f%%', title='Pacientes')"
   ]
  },
  {
   "cell_type": "markdown",
   "metadata": {},
   "source": [
    "<h1>Conclusiones</h1>\n",
    "<p>Con la realizacion de esta Producto Integrador, el equipo ha llevado a cabo el manejo de esta informacion para elaborar \n",
    "   un trabajo de ciencia de datos.</p>\n",
    "<p>Como se menciono el tema manejado fue el estudio de informacion sobre pacientes con problemas medicos de corazon. De los datos disponibles del hospital de Cleveland unicamente se decidio utilizar 14 de los datos proporcionados por el Dataset, con el proposito de encontrar la relacion entre los sintomas con mas presencia en estos pacientes.</p>\n",
    "<p>Haciendo uso del metodo k-medias para la obtencion de agrupamientos en los datos que manejamos, de esta forma obtener una conclusion de cuales son los sintomas mas incurrentes respecto a otros.</p>\n",
    "<p>Una vez realizado los calculos en el algoritmo los resultados arrogados fueron los siguientes:</p>\n"
   ]
  },
  {
   "cell_type": "code",
   "execution_count": 18,
   "metadata": {
    "scrolled": true
   },
   "outputs": [
    {
     "data": {
      "text/html": [
       "<div>\n",
       "<style scoped>\n",
       "    .dataframe tbody tr th:only-of-type {\n",
       "        vertical-align: middle;\n",
       "    }\n",
       "\n",
       "    .dataframe tbody tr th {\n",
       "        vertical-align: top;\n",
       "    }\n",
       "\n",
       "    .dataframe thead th {\n",
       "        text-align: right;\n",
       "    }\n",
       "</style>\n",
       "<table border=\"1\" class=\"dataframe\">\n",
       "  <thead>\n",
       "    <tr style=\"text-align: right;\">\n",
       "      <th></th>\n",
       "      <th>Unnamed: 0</th>\n",
       "      <th>Edad</th>\n",
       "      <th>sexo</th>\n",
       "      <th>cp</th>\n",
       "      <th>trestbps</th>\n",
       "      <th>chol</th>\n",
       "      <th>fbs</th>\n",
       "      <th>restecg</th>\n",
       "      <th>thalach</th>\n",
       "      <th>exang</th>\n",
       "      <th>oldpeak</th>\n",
       "      <th>slope</th>\n",
       "      <th>ca</th>\n",
       "      <th>thal</th>\n",
       "      <th>num</th>\n",
       "    </tr>\n",
       "  </thead>\n",
       "  <tbody>\n",
       "    <tr>\n",
       "      <th>0</th>\n",
       "      <td>43.89%</td>\n",
       "      <td>54</td>\n",
       "      <td>1</td>\n",
       "      <td>2</td>\n",
       "      <td>115</td>\n",
       "      <td>249</td>\n",
       "      <td>0</td>\n",
       "      <td>2</td>\n",
       "      <td>135</td>\n",
       "      <td>0</td>\n",
       "      <td>1.6</td>\n",
       "      <td>3</td>\n",
       "      <td>0</td>\n",
       "      <td>6</td>\n",
       "      <td>1</td>\n",
       "    </tr>\n",
       "    <tr>\n",
       "      <th>1</th>\n",
       "      <td>35.97%</td>\n",
       "      <td>43</td>\n",
       "      <td>0</td>\n",
       "      <td>4</td>\n",
       "      <td>136</td>\n",
       "      <td>198</td>\n",
       "      <td>1</td>\n",
       "      <td>2</td>\n",
       "      <td>155</td>\n",
       "      <td>1</td>\n",
       "      <td>2.4</td>\n",
       "      <td>1</td>\n",
       "      <td>2</td>\n",
       "      <td>3</td>\n",
       "      <td>1</td>\n",
       "    </tr>\n",
       "    <tr>\n",
       "      <th>2</th>\n",
       "      <td>20.13%</td>\n",
       "      <td>60</td>\n",
       "      <td>0</td>\n",
       "      <td>3</td>\n",
       "      <td>130</td>\n",
       "      <td>266</td>\n",
       "      <td>0</td>\n",
       "      <td>0</td>\n",
       "      <td>178</td>\n",
       "      <td>0</td>\n",
       "      <td>1.0</td>\n",
       "      <td>2</td>\n",
       "      <td>0</td>\n",
       "      <td>6</td>\n",
       "      <td>3</td>\n",
       "    </tr>\n",
       "  </tbody>\n",
       "</table>\n",
       "</div>"
      ],
      "text/plain": [
       "  Unnamed: 0  Edad  sexo  cp  trestbps  chol  fbs  restecg  thalach  exang  \\\n",
       "0     43.89%    54     1   2       115   249    0        2      135      0   \n",
       "1     35.97%    43     0   4       136   198    1        2      155      1   \n",
       "2     20.13%    60     0   3       130   266    0        0      178      0   \n",
       "\n",
       "   oldpeak  slope  ca  thal  num  \n",
       "0      1.6      3   0     6    1  \n",
       "1      2.4      1   2     3    1  \n",
       "2      1.0      2   0     6    3  "
      ]
     },
     "execution_count": 18,
     "metadata": {},
     "output_type": "execute_result"
    }
   ],
   "source": [
    "re = pd.read_csv(\"Resultados.csv\")\n",
    "re"
   ]
  },
  {
   "cell_type": "markdown",
   "metadata": {},
   "source": [
    "<p>Un vez presentados los resultados el equipo ha concluido que:</p>"
   ]
  },
  {
   "cell_type": "markdown",
   "metadata": {},
   "source": [
    "Gracias a esto podriamos decir que por ejemplo el porcentaje mayor de pacientes hombres en el hospital de Cleveland tiene al rededor de 54 años y el dolor de pecho mas comun que presentan es Angina de pecho atípica.\n",
    "\n",
    "Para terminar de concluir podriamos decir que gracias a este estudio de datos podemos saber que tipo de sintomas son los mas tratados en el hospital e incluso ver las relaciones entre estos. por ejemplo podemos ver en la tabla que los hombres tienden a tener una presion arterial en reposo mas bajo que las mujeres. Aunque a este proyecto le falte pulirse mas creemos que cumple con su cometido y refleja la utilidad del metodo de K-medias."
   ]
  }
 ],
 "metadata": {
  "kernelspec": {
   "display_name": "Python 3",
   "language": "python",
   "name": "python3"
  },
  "language_info": {
   "codemirror_mode": {
    "name": "ipython",
    "version": 3
   },
   "file_extension": ".py",
   "mimetype": "text/x-python",
   "name": "python",
   "nbconvert_exporter": "python",
   "pygments_lexer": "ipython3",
   "version": "3.8.5"
  }
 },
 "nbformat": 4,
 "nbformat_minor": 5
}
